{
 "cells": [
  {
   "cell_type": "markdown",
   "id": "4146a362",
   "metadata": {},
   "source": [
    "## distance petween two point "
   ]
  },
  {
   "cell_type": "code",
   "execution_count": 6,
   "id": "c04d818f",
   "metadata": {},
   "outputs": [
    {
     "name": "stdout",
     "output_type": "stream",
     "text": [
      "enter the value of point x1:6\n",
      "Enter the value of point x2:0\n",
      "enter the value of point y1:-6\n",
      "Enter the value of point y2:0\n",
      "point of p and q: (6, -6) (0, 0)\n",
      "distance between p and q: 8.48528137423857\n"
     ]
    }
   ],
   "source": [
    "import math\n",
    "x1 = int(input(\"enter the value of point x1:\"))\n",
    "x2 = int(input(\"Enter the value of point x2:\"))\n",
    "y1= int(input(\"enter the value of point y1:\"))\n",
    "y2 = int(input(\"Enter the value of point y2:\"))\n",
    "p = x1,y1\n",
    "q = x2,y2\n",
    "xy = math.sqrt(pow(x2-x1,2)+pow(y2-y1,2))\n",
    "print(\"point of p and q:\",p,q)\n",
    "print(\"distance between p and q:\",xy)"
   ]
  },
  {
   "cell_type": "markdown",
   "id": "e745047a",
   "metadata": {},
   "source": [
    "## divides the line segment"
   ]
  },
  {
   "cell_type": "code",
   "execution_count": 11,
   "id": "5f8f260f",
   "metadata": {},
   "outputs": [
    {
     "name": "stdout",
     "output_type": "stream",
     "text": [
      "point of x1:4\n",
      "point of y1:-3\n",
      "point of x2:9\n",
      "point of y2:7\n",
      "ratio of m value :3\n",
      "ratio of n value :2\n",
      "point of p and q : (4, -3) (9, 7)\n",
      "ratio of m and n : (3, 2)\n",
      "the required point:  (7.0, 3.0)\n"
     ]
    }
   ],
   "source": [
    "import math\n",
    "x1 = int(input(\"point of x1:\"))\n",
    "y1 = int(input(\"point of y1:\"))\n",
    "x2 = int(input(\"point of x2:\"))\n",
    "y2 = int(input(\"point of y2:\"))\n",
    "m = int(input(\"ratio of m value :\"))\n",
    "n = int(input(\"ratio of n value :\"))\n",
    "p = x1,y1\n",
    "q = x2,y2\n",
    "A = m,n\n",
    "print(\"point of p and q :\",p,q)\n",
    "print(\"ratio of m and n :\",A)\n",
    "x =  (((m*x2) +  (n*x1))/ (m + n)) , (((m*y2 ) + (n*y1))/(m+n))\n",
    "# y = (((m*x2)-(n*x1))/m-n), (((m*y2)-(n*y1))/m-n)\n",
    "print(\"the required point: \",x)"
   ]
  },
  {
   "cell_type": "markdown",
   "id": "cc300aa4",
   "metadata": {},
   "source": [
    "`   ______________                                       mid point segment`"
   ]
  },
  {
   "cell_type": "code",
   "execution_count": 14,
   "id": "7c06e249",
   "metadata": {},
   "outputs": [
    {
     "name": "stdout",
     "output_type": "stream",
     "text": [
      "point of x1:5\n",
      "Point of y1:7\n",
      "point of x2:3\n",
      "point of y2:5\n",
      "point of p  and q:  (5, 7) (3, 5)\n",
      "mid of point of p and q: (4.0, 6.0)\n"
     ]
    }
   ],
   "source": [
    "x1 = int(input(\"point of x1:\"))\n",
    "y1 = int(input(\"Point of y1:\"))\n",
    "x2 = int(input(\"point of x2:\"))\n",
    "y2 = int(input(\"point of y2:\"))\n",
    "p = x1,y1\n",
    "q = x2,y2\n",
    "print(\"point of p  and q: \",p,q)\n",
    "mid_point = ((x1+x2)/2) , ((y1+y2)/2)\n",
    "print(\"mid of point of p and q:\",mid_point)"
   ]
  },
  {
   "cell_type": "markdown",
   "id": "db6f5d4d",
   "metadata": {},
   "source": [
    "`_______________trisection of the segment______________`"
   ]
  },
  {
   "cell_type": "code",
   "execution_count": 16,
   "id": "c3a5c81a",
   "metadata": {},
   "outputs": [
    {
     "name": "stdout",
     "output_type": "stream",
     "text": [
      "point of x1:4\n",
      "Point of y1:2\n",
      "point of x2:5\n",
      "point of y2:2\n",
      "point of p  and q:  (4, 2) (5, 2)\n",
      "trisection of point joining p and q: (4.333333333333333, 2.0)\n"
     ]
    }
   ],
   "source": [
    "x1 = int(input(\"point of x1:\"))\n",
    "y1 = int(input(\"Point of y1:\"))\n",
    "x2 = int(input(\"point of x2:\"))\n",
    "y2 = int(input(\"point of y2:\"))\n",
    "p = x1,y1\n",
    "q = x2,y2\n",
    "print(\"point of p  and q: \",p,q)\n",
    "mid_point = ((2*x1+x2)/3) , ((2*y1+y2)/3)\n",
    "print(\"trisection of point joining p and q:\",mid_point)"
   ]
  },
  {
   "cell_type": "markdown",
   "id": "72d5172f",
   "metadata": {},
   "source": [
    "`____________________centroid of triangle ABC vertices_________________________ `"
   ]
  },
  {
   "cell_type": "code",
   "execution_count": 19,
   "id": "aabd586b",
   "metadata": {},
   "outputs": [
    {
     "name": "stdout",
     "output_type": "stream",
     "text": [
      "x1:-3\n",
      "y1:0\n",
      "x2:5\n",
      "y2:-2\n",
      "x3:-8\n",
      "y3:5\n",
      "point of A,B & C: (-3, 0) (5, -2) (-8, 5)\n",
      "centroid of triangle ABC: (-2.0, 1.0)\n"
     ]
    }
   ],
   "source": [
    "x1 = int(input(\"x1:\"))\n",
    "y1 = int(input(\"y1:\"))\n",
    "x2 = int(input(\"x2:\"))\n",
    "y2 = int(input(\"y2:\"))\n",
    "x3 = int(input(\"x3:\"))\n",
    "y3 = int(input(\"y3:\"))\n",
    "A = x1,y1\n",
    "B = x2,y2\n",
    "C = x3,y3\n",
    "print(\"point of A,B & C:\",A,B,C)\n",
    "x = (x1+x2+x3)/3\n",
    "y = (y1+y2+y3)/3\n",
    "p = x,y\n",
    "print(\"centroid of triangle ABC:\",p)"
   ]
  },
  {
   "cell_type": "markdown",
   "id": "9a1b04cf",
   "metadata": {},
   "source": [
    "`___________Area of triangle_____________`"
   ]
  },
  {
   "cell_type": "code",
   "execution_count": 24,
   "id": "14345db9",
   "metadata": {},
   "outputs": [
    {
     "name": "stdout",
     "output_type": "stream",
     "text": [
      "x1:3\n",
      "y1:8\n",
      "x2:-4\n",
      "y2:2\n",
      "x3:5\n",
      "y3:-1\n",
      "point of A,B & C: (3, 8) (-4, 2) (5, -1)\n",
      "Area of triangle ABC: 37.5\n"
     ]
    }
   ],
   "source": [
    "x1 = int(input(\"x1:\"))\n",
    "y1 = int(input(\"y1:\"))\n",
    "x2 = int(input(\"x2:\"))\n",
    "y2 = int(input(\"y2:\"))\n",
    "x3 = int(input(\"x3:\"))\n",
    "y3 = int(input(\"y3:\"))\n",
    "A = x1,y1\n",
    "B = x2,y2\n",
    "C = x3,y3\n",
    "print(\"point of A,B & C:\",A,B,C)\n",
    "s=(x1*(y2-y3))\n",
    "r=(x2*(y3-y1))\n",
    "q=(x3*(y1-y2))\n",
    "area = ((s+r+q)/2)\n",
    "print(\"Area of triangle ABC:\",area)"
   ]
  },
  {
   "cell_type": "markdown",
   "id": "15c0f975",
   "metadata": {},
   "source": [
    "`_______collinear point____________`"
   ]
  },
  {
   "cell_type": "code",
   "execution_count": 26,
   "id": "836aa2b2",
   "metadata": {},
   "outputs": [
    {
     "name": "stdout",
     "output_type": "stream",
     "text": [
      "x1:-1\n",
      "y1:1\n",
      "x2:5\n",
      "y2:7\n",
      "x3:8\n",
      "y3:10\n",
      "point of A,B & C: (-1, 1) (5, 7) (8, 10)\n",
      "hence this is collinear point\n"
     ]
    }
   ],
   "source": [
    "x1 = int(input(\"x1:\"))\n",
    "y1 = int(input(\"y1:\"))\n",
    "x2 = int(input(\"x2:\"))\n",
    "y2 = int(input(\"y2:\"))\n",
    "x3 = int(input(\"x3:\"))\n",
    "y3 = int(input(\"y3:\"))\n",
    "A = x1,y1\n",
    "B = x2,y2\n",
    "C = x3,y3\n",
    "print(\"point of A,B & C:\",A,B,C)\n",
    "s=(x1*(y2-y3))\n",
    "r=(x2*(y3-y1))\n",
    "q=(x3*(y1-y2))\n",
    "collinear = s+r+q\n",
    "if collinear == 0:\n",
    "    print(\"hence this is collinear point\")\n",
    "else:\n",
    "    print(\"hence this is not collinear point\")"
   ]
  },
  {
   "cell_type": "code",
   "execution_count": 28,
   "id": "b865471f",
   "metadata": {},
   "outputs": [
    {
     "name": "stdout",
     "output_type": "stream",
     "text": [
      "x1:1\n",
      "y1:0\n",
      "x2:5\n",
      "y2:3\n",
      "x3:2\n",
      "y3:7\n",
      "x4:-2\n",
      "y4:4\n",
      "point of A,B & C: (1, 0) (5, 3) (2, 7) (-2, 4)\n",
      "area of quadrilateral triangle: -24.0\n"
     ]
    }
   ],
   "source": [
    "# answer is wrong -------------------------------\n",
    "# find the quadrilateral triangle ABCD\n",
    "x1 = int(input(\"x1:\"))\n",
    "y1 = int(input(\"y1:\"))\n",
    "x2 = int(input(\"x2:\"))\n",
    "y2 = int(input(\"y2:\"))\n",
    "x3 = int(input(\"x3:\"))\n",
    "y3 = int(input(\"y3:\"))\n",
    "x4 = int(input(\"x4:\"))\n",
    "y4 = int(input(\"y4:\"))\n",
    "A = x1,y1\n",
    "B = x2,y2\n",
    "C = x3,y3\n",
    "D = x4,y4\n",
    "print(\"point of A,B & C:\",A,B,C,D)\n",
    "s=(x1*(y2-y4))\n",
    "r=(x2*(y1-y3))\n",
    "q=(x3*(y4-y2))\n",
    "t=(x4*(y3-y1))\n",
    "area = (s+r+q+t)/2\n",
    "print(\"area of quadrilateral triangle:\",area)\n"
   ]
  },
  {
   "cell_type": "markdown",
   "id": "abd1c14d",
   "metadata": {},
   "source": [
    "`_____Slope of the line joining the points__________`"
   ]
  },
  {
   "cell_type": "code",
   "execution_count": 29,
   "id": "9e153a42",
   "metadata": {},
   "outputs": [
    {
     "name": "stdout",
     "output_type": "stream",
     "text": [
      "x1:2\n",
      "y1:-3\n",
      "x2:-5\n",
      "y2:-2\n",
      "point of A and B : (2, -3) (-5, -2)\n",
      "slope of the joining the points A and B :  -0.14285714285714285\n"
     ]
    }
   ],
   "source": [
    "x1 = int(input(\"x1:\"))\n",
    "y1 = int(input(\"y1:\"))\n",
    "x2 = int(input(\"x2:\"))\n",
    "y2 = int(input(\"y2:\"))\n",
    "m = (y2 - y1)/(x2 - x1)\n",
    "A = x1,y1\n",
    "B = x2 , y2\n",
    "print(\"point of A and B :\",A,B)\n",
    "print(\"slope of the joining the points A and B : \",m)"
   ]
  },
  {
   "cell_type": "code",
   "execution_count": 38,
   "id": "a6e09631",
   "metadata": {},
   "outputs": [],
   "source": [
    "def transpose(self, matrix: list[list[int]]) -> list[list[int]]:\n",
    "    x,y=len(matrix),len(matrix[0])\n",
    "    ans = [[None] * x for _ in range(y)]\n",
    "    for i in range(x):\n",
    "        for j in range(y):\n",
    "            ans[j][i]=matrix[i][j]\n",
    "\n",
    "    return ans"
   ]
  },
  {
   "cell_type": "code",
   "execution_count": 39,
   "id": "8c0b87b4",
   "metadata": {},
   "outputs": [
    {
     "data": {
      "text/plain": [
       "[[1, 4, 7], [2, 5, 8], [3, 6, 9]]"
      ]
     },
     "execution_count": 39,
     "metadata": {},
     "output_type": "execute_result"
    }
   ],
   "source": [
    "transpose(3,[[1,2,3],[4,5,6],[7,8,9]])"
   ]
  },
  {
   "cell_type": "markdown",
   "id": "fbc5a0c4",
   "metadata": {},
   "source": [
    "`geometry three dimensions`"
   ]
  },
  {
   "cell_type": "code",
   "execution_count": 1,
   "id": "0305876f",
   "metadata": {},
   "outputs": [
    {
     "name": "stdout",
     "output_type": "stream",
     "text": [
      "a side of length: 5\n",
      "b side of length: 7\n",
      "c side of length: 6\n",
      "perimeter of triangle 18\n",
      "semi- primeter of triangle 9.0\n",
      "Area of triangle ABC:  14.696938456699069\n"
     ]
    }
   ],
   "source": [
    "import math\n",
    "a = int(input(\"a side of length: \"))\n",
    "b = int(input(\"b side of length: \"))\n",
    "c = int(input(\"c side of length: \"))\n",
    "p = a + b + c\n",
    "print(\"perimeter of triangle\",p)\n",
    "s = p/2 \n",
    "print(\"semi- primeter of triangle\",s)\n",
    "abc = math.sqrt(s*(s-a)*(s-b)*(s-c))\n",
    "print(\"Area of triangle ABC: \",abc)"
   ]
  },
  {
   "cell_type": "code",
   "execution_count": null,
   "id": "2c4a96b7",
   "metadata": {},
   "outputs": [],
   "source": []
  }
 ],
 "metadata": {
  "kernelspec": {
   "display_name": "Python 3 (ipykernel)",
   "language": "python",
   "name": "python3"
  },
  "language_info": {
   "codemirror_mode": {
    "name": "ipython",
    "version": 3
   },
   "file_extension": ".py",
   "mimetype": "text/x-python",
   "name": "python",
   "nbconvert_exporter": "python",
   "pygments_lexer": "ipython3",
   "version": "3.9.12"
  }
 },
 "nbformat": 4,
 "nbformat_minor": 5
}
