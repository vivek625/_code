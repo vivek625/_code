{
 "cells": [
  {
   "cell_type": "code",
   "execution_count": 1,
   "id": "47a202be",
   "metadata": {},
   "outputs": [
    {
     "name": "stdout",
     "output_type": "stream",
     "text": [
      "5\n",
      "*****\n",
      "*****\n",
      "*****\n",
      "*****\n",
      "*****\n"
     ]
    }
   ],
   "source": [
    "n = int(input())\n",
    "for i in range(1,n+1):\n",
    "    print(\"*\"*n)"
   ]
  },
  {
   "cell_type": "code",
   "execution_count": 2,
   "id": "d060e2ad",
   "metadata": {},
   "outputs": [
    {
     "name": "stdout",
     "output_type": "stream",
     "text": [
      "5\n",
      "11111\n",
      "22222\n",
      "33333\n",
      "44444\n",
      "55555\n"
     ]
    }
   ],
   "source": [
    "n = int(input())\n",
    "for i in range(1,n+1):\n",
    "    for j in range(1,n+1):\n",
    "        print(i,end='')\n",
    "    print()"
   ]
  },
  {
   "cell_type": "markdown",
   "id": "8969f252",
   "metadata": {},
   "source": []
  },
  {
   "cell_type": "code",
   "execution_count": 4,
   "id": "b26ccf96",
   "metadata": {},
   "outputs": [
    {
     "name": "stdout",
     "output_type": "stream",
     "text": [
      "5\n",
      "12345\n",
      "12345\n",
      "12345\n",
      "12345\n",
      "12345\n"
     ]
    }
   ],
   "source": [
    "n = int(input())\n",
    "for i in range(1,n+1):\n",
    "    for j in range(1,n+1):\n",
    "        print(j,end='')\n",
    "    print()"
   ]
  },
  {
   "cell_type": "code",
   "execution_count": 6,
   "id": "9f9091b5",
   "metadata": {},
   "outputs": [
    {
     "name": "stdout",
     "output_type": "stream",
     "text": [
      "10\n",
      "AAAAAAAAAA\n",
      "BBBBBBBBBB\n",
      "CCCCCCCCCC\n",
      "DDDDDDDDDD\n",
      "EEEEEEEEEE\n",
      "FFFFFFFFFF\n",
      "GGGGGGGGGG\n",
      "HHHHHHHHHH\n",
      "IIIIIIIIII\n",
      "JJJJJJJJJJ\n"
     ]
    }
   ],
   "source": [
    "n = int(input())\n",
    "for i in range(1,n+1):\n",
    "    for j in range(1,n+1):\n",
    "        print(chr(64+i),end= '')\n",
    "    print()"
   ]
  },
  {
   "cell_type": "code",
   "execution_count": 7,
   "id": "b1eca41c",
   "metadata": {},
   "outputs": [
    {
     "name": "stdout",
     "output_type": "stream",
     "text": [
      "10\n",
      "ABCDEFGHIJ\n",
      "ABCDEFGHIJ\n",
      "ABCDEFGHIJ\n",
      "ABCDEFGHIJ\n",
      "ABCDEFGHIJ\n",
      "ABCDEFGHIJ\n",
      "ABCDEFGHIJ\n",
      "ABCDEFGHIJ\n",
      "ABCDEFGHIJ\n",
      "ABCDEFGHIJ\n"
     ]
    }
   ],
   "source": [
    "n = int(input())\n",
    "for i in range(1,n+1):\n",
    "    for j in range(1,n+1):\n",
    "        print(chr(64+j),end='')\n",
    "    print()"
   ]
  },
  {
   "cell_type": "code",
   "execution_count": 11,
   "id": "5faca814",
   "metadata": {},
   "outputs": [
    {
     "name": "stdout",
     "output_type": "stream",
     "text": [
      "10\n",
      "10 10 10 10 10 10 10 10 10 10  \n",
      "9 9 9 9 9 9 9 9 9 9  \n",
      "8 8 8 8 8 8 8 8 8 8  \n",
      "7 7 7 7 7 7 7 7 7 7  \n",
      "6 6 6 6 6 6 6 6 6 6  \n",
      "5 5 5 5 5 5 5 5 5 5  \n",
      "4 4 4 4 4 4 4 4 4 4  \n",
      "3 3 3 3 3 3 3 3 3 3  \n",
      "2 2 2 2 2 2 2 2 2 2  \n",
      "1 1 1 1 1 1 1 1 1 1  \n"
     ]
    }
   ],
   "source": [
    "n = int(input())\n",
    "for i in range(1,n+1):\n",
    "    for j in range(1,n+1):\n",
    "        print(n+1-i,end=' ')\n",
    "    print(\" \")"
   ]
  },
  {
   "cell_type": "code",
   "execution_count": 12,
   "id": "4124901f",
   "metadata": {},
   "outputs": [
    {
     "name": "stdout",
     "output_type": "stream",
     "text": [
      "5\n",
      "7891011\n",
      "7891011\n",
      "7891011\n",
      "7891011\n",
      "7891011\n"
     ]
    }
   ],
   "source": [
    "n = int(input())\n",
    "for i in range(1,n+1):\n",
    "    for j in range(1,n+1):\n",
    "        print(n+1+j,end='')\n",
    "    print()"
   ]
  },
  {
   "cell_type": "code",
   "execution_count": 13,
   "id": "e65bcc53",
   "metadata": {},
   "outputs": [
    {
     "name": "stdout",
     "output_type": "stream",
     "text": [
      "5\n",
      "77777\n",
      "88888\n",
      "99999\n",
      "1010101010\n",
      "1111111111\n"
     ]
    }
   ],
   "source": [
    "n = int(input())\n",
    "for i in range(1,n+1):\n",
    "    for j in range(1,n+1):\n",
    "        print(n+1+i,end='')\n",
    "    print()"
   ]
  },
  {
   "cell_type": "code",
   "execution_count": 14,
   "id": "dc784e4b",
   "metadata": {},
   "outputs": [
    {
     "name": "stdout",
     "output_type": "stream",
     "text": [
      "5\n",
      "88888\n",
      "99999\n",
      "1010101010\n",
      "1111111111\n",
      "1212121212\n"
     ]
    }
   ],
   "source": [
    "n = int(input())\n",
    "for i in range(1,n+1):\n",
    "    for j in range(1,n+1):\n",
    "        print(n+1+i+1,end='')\n",
    "    print()"
   ]
  },
  {
   "cell_type": "code",
   "execution_count": 15,
   "id": "ddccefe9",
   "metadata": {},
   "outputs": [
    {
     "name": "stdout",
     "output_type": "stream",
     "text": [
      "5\n",
      "55555\n",
      "44444\n",
      "33333\n",
      "22222\n",
      "11111\n"
     ]
    }
   ],
   "source": [
    "n = int(input())\n",
    "for i in range(1,n+1):\n",
    "    for j in range(1,n+1):\n",
    "        print(n+1-i,end='')\n",
    "    print()"
   ]
  },
  {
   "cell_type": "code",
   "execution_count": 18,
   "id": "ae7f2e22",
   "metadata": {},
   "outputs": [
    {
     "name": "stdout",
     "output_type": "stream",
     "text": [
      "5\n",
      "54321\n",
      "54321\n",
      "54321\n",
      "54321\n",
      "54321\n"
     ]
    }
   ],
   "source": [
    "n = int(input())\n",
    "for i in range(1,n+1):\n",
    "    for j in range(1,n+1):\n",
    "        print(n+1-j,end='')\n",
    "    print()\n",
    "                   "
   ]
  },
  {
   "cell_type": "code",
   "execution_count": 19,
   "id": "4610770d",
   "metadata": {},
   "outputs": [
    {
     "name": "stdout",
     "output_type": "stream",
     "text": [
      "10\n",
      "JJJJJJJJJJ\n",
      "IIIIIIIIII\n",
      "HHHHHHHHHH\n",
      "GGGGGGGGGG\n",
      "FFFFFFFFFF\n",
      "EEEEEEEEEE\n",
      "DDDDDDDDDD\n",
      "CCCCCCCCCC\n",
      "BBBBBBBBBB\n",
      "AAAAAAAAAA\n"
     ]
    }
   ],
   "source": [
    "n = int(input())\n",
    "for i in range(1,n+1):\n",
    "    for j in range(1,n+1):\n",
    "        print(chr(65+n-i),end='')\n",
    "    print()"
   ]
  },
  {
   "cell_type": "code",
   "execution_count": 20,
   "id": "b482837c",
   "metadata": {},
   "outputs": [
    {
     "name": "stdout",
     "output_type": "stream",
     "text": [
      "10\n",
      "JIHGFEDCBA\n",
      "JIHGFEDCBA\n",
      "JIHGFEDCBA\n",
      "JIHGFEDCBA\n",
      "JIHGFEDCBA\n",
      "JIHGFEDCBA\n",
      "JIHGFEDCBA\n",
      "JIHGFEDCBA\n",
      "JIHGFEDCBA\n",
      "JIHGFEDCBA\n"
     ]
    }
   ],
   "source": [
    "n = int(input())\n",
    "for i in range(1,n+1):\n",
    "    for j in range(1,n+1):\n",
    "        print(chr(65+n-j),end='')\n",
    "    print()"
   ]
  },
  {
   "cell_type": "code",
   "execution_count": 21,
   "id": "f990e5a5",
   "metadata": {},
   "outputs": [
    {
     "name": "stdout",
     "output_type": "stream",
     "text": [
      "10\n",
      "*\n",
      "**\n",
      "***\n",
      "****\n",
      "*****\n",
      "******\n",
      "*******\n",
      "********\n",
      "*********\n",
      "**********\n"
     ]
    }
   ],
   "source": [
    "n = int(input())\n",
    "for i in range(1,n+1):\n",
    "    for j in range(1,i+1):\n",
    "        print(\"*\",end='')\n",
    "    print()"
   ]
  },
  {
   "cell_type": "code",
   "execution_count": 22,
   "id": "933e63d2",
   "metadata": {},
   "outputs": [
    {
     "name": "stdout",
     "output_type": "stream",
     "text": [
      "A\n",
      "BB\n",
      "CCC\n",
      "DDDD\n",
      "EEEEE\n",
      "FFFFFF\n",
      "GGGGGGG\n",
      "HHHHHHHH\n",
      "IIIIIIIII\n",
      "JJJJJJJJJJ\n"
     ]
    }
   ],
   "source": [
    "for i in range(1,n+1):\n",
    "    for j in range(1,i+1):\n",
    "        print(chr(64+i),end='')\n",
    "    print()"
   ]
  },
  {
   "cell_type": "code",
   "execution_count": 23,
   "id": "0e016f8e",
   "metadata": {},
   "outputs": [
    {
     "name": "stdout",
     "output_type": "stream",
     "text": [
      "1\n",
      "22\n",
      "333\n",
      "4444\n",
      "55555\n",
      "666666\n",
      "7777777\n",
      "88888888\n",
      "999999999\n",
      "10101010101010101010\n"
     ]
    }
   ],
   "source": [
    "for i in range(1,n+1):\n",
    "    for j in range(1,i+1):\n",
    "        print(i,end='')\n",
    "    print()\n",
    "        "
   ]
  },
  {
   "cell_type": "code",
   "execution_count": 24,
   "id": "2afd25b1",
   "metadata": {},
   "outputs": [
    {
     "name": "stdout",
     "output_type": "stream",
     "text": [
      "1\n",
      "12\n",
      "123\n",
      "1234\n",
      "12345\n",
      "123456\n",
      "1234567\n",
      "12345678\n",
      "123456789\n",
      "12345678910\n"
     ]
    }
   ],
   "source": [
    "for i in range(1,n+1):\n",
    "    for j in range(1,i+1):\n",
    "        print(j,end='')\n",
    "    print()"
   ]
  },
  {
   "cell_type": "code",
   "execution_count": 25,
   "id": "1d90a180",
   "metadata": {},
   "outputs": [
    {
     "name": "stdout",
     "output_type": "stream",
     "text": [
      "A\n",
      "AB\n",
      "ABC\n",
      "ABCD\n",
      "ABCDE\n",
      "ABCDEF\n",
      "ABCDEFG\n",
      "ABCDEFGH\n",
      "ABCDEFGHI\n",
      "ABCDEFGHIJ\n"
     ]
    }
   ],
   "source": [
    "for i in range(1,n+1):\n",
    "    for j in range(1,i+1):\n",
    "        print(chr(64+j),end='')\n",
    "    print()"
   ]
  },
  {
   "cell_type": "code",
   "execution_count": 26,
   "id": "2051e0de",
   "metadata": {},
   "outputs": [
    {
     "name": "stdout",
     "output_type": "stream",
     "text": [
      "AAAAAAAAAA\n",
      "BBBBBBBBBB\n",
      "CCCCCCCCCC\n",
      "DDDDDDDDDD\n",
      "EEEEEEEEEE\n",
      "FFFFFFFFFF\n",
      "GGGGGGGGGG\n",
      "HHHHHHHHHH\n",
      "IIIIIIIIII\n",
      "JJJJJJJJJJ\n"
     ]
    }
   ],
   "source": [
    "for i in range(1,n+1):\n",
    "    for j in range(1,j+1):\n",
    "        print(chr(64+i),end='')\n",
    "    print()"
   ]
  },
  {
   "cell_type": "code",
   "execution_count": 28,
   "id": "a9ffa90c",
   "metadata": {},
   "outputs": [
    {
     "name": "stdout",
     "output_type": "stream",
     "text": [
      "A\n",
      "BB\n",
      "CCC\n",
      "DDDD\n",
      "EEEEE\n",
      "FFFFFF\n",
      "GGGGGGG\n",
      "HHHHHHHH\n",
      "IIIIIIIII\n",
      "JJJJJJJJJJ\n"
     ]
    }
   ],
   "source": [
    "for i in range(1,n+1):\n",
    "    for j in range(1,i+1):\n",
    "        print(chr(64+i),end='')\n",
    "    print()"
   ]
  },
  {
   "cell_type": "code",
   "execution_count": 29,
   "id": "460424f9",
   "metadata": {},
   "outputs": [
    {
     "name": "stdout",
     "output_type": "stream",
     "text": [
      "10\n",
      "**********\n",
      "*********\n",
      "********\n",
      "*******\n",
      "******\n",
      "*****\n",
      "****\n",
      "***\n",
      "**\n",
      "*\n"
     ]
    }
   ],
   "source": [
    "n = int(input())\n",
    "for i in range(1,n+1):\n",
    "    for j in range(1,n+2-i):\n",
    "        print(\"*\",end='')\n",
    "    print()"
   ]
  },
  {
   "cell_type": "code",
   "execution_count": 5,
   "id": "2a22db7b",
   "metadata": {},
   "outputs": [],
   "source": [
    "n = 10"
   ]
  },
  {
   "cell_type": "code",
   "execution_count": 6,
   "id": "d4654e10",
   "metadata": {},
   "outputs": [
    {
     "name": "stdout",
     "output_type": "stream",
     "text": [
      "1111111111\n",
      "222222222\n",
      "33333333\n",
      "4444444\n",
      "555555\n",
      "66666\n",
      "7777\n",
      "888\n",
      "99\n",
      "10\n"
     ]
    }
   ],
   "source": [
    "for  i in range(1,n+1):\n",
    "    for j in range(1,n+2-i):\n",
    "        print(i,end='')\n",
    "    print()"
   ]
  },
  {
   "cell_type": "code",
   "execution_count": 7,
   "id": "97f70a02",
   "metadata": {},
   "outputs": [
    {
     "name": "stdout",
     "output_type": "stream",
     "text": [
      "1111111111\n",
      "222222222\n",
      "33333333\n",
      "4444444\n",
      "555555\n",
      "66666\n",
      "7777\n",
      "888\n",
      "99\n",
      "10\n"
     ]
    }
   ],
   "source": [
    "for i in range(1,n+1):\n",
    "    for j in range(1,n+2-i):\n",
    "        print(i,end='')\n",
    "    print()"
   ]
  },
  {
   "cell_type": "code",
   "execution_count": 32,
   "id": "404d4c32",
   "metadata": {},
   "outputs": [
    {
     "name": "stdout",
     "output_type": "stream",
     "text": [
      "1111111111\n",
      "222222222\n",
      "33333333\n",
      "4444444\n",
      "555555\n",
      "66666\n",
      "7777\n",
      "888\n",
      "99\n",
      "10\n"
     ]
    }
   ],
   "source": []
  },
  {
   "cell_type": "code",
   "execution_count": 33,
   "id": "f02ac3c2",
   "metadata": {},
   "outputs": [
    {
     "name": "stdout",
     "output_type": "stream",
     "text": [
      "12345678910\n",
      "123456789\n",
      "12345678\n",
      "1234567\n",
      "123456\n",
      "12345\n",
      "1234\n",
      "123\n",
      "12\n",
      "1\n"
     ]
    }
   ],
   "source": [
    "for i in range(1,n+1):\n",
    "    for j in range(1,n+2-i):\n",
    "        print(j,end='')\n",
    "    print()"
   ]
  },
  {
   "cell_type": "code",
   "execution_count": 35,
   "id": "24094510",
   "metadata": {},
   "outputs": [
    {
     "name": "stdout",
     "output_type": "stream",
     "text": [
      "AAAAAAAAAA\n",
      "BBBBBBBBB\n",
      "CCCCCCCC\n",
      "DDDDDDD\n",
      "EEEEEE\n",
      "FFFFF\n",
      "GGGG\n",
      "HHH\n",
      "II\n",
      "J\n"
     ]
    }
   ],
   "source": [
    "for i in range(1,n+1):\n",
    "    for j in range(1,n+2-i):\n",
    "        print(chr(64+i),end='')\n",
    "    print()"
   ]
  },
  {
   "cell_type": "code",
   "execution_count": 37,
   "id": "2df47e52",
   "metadata": {},
   "outputs": [
    {
     "name": "stdout",
     "output_type": "stream",
     "text": [
      "ABCDEFGHIJ\n",
      "ABCDEFGHI\n",
      "ABCDEFGH\n",
      "ABCDEFG\n",
      "ABCDEF\n",
      "ABCDE\n",
      "ABCD\n",
      "ABC\n",
      "AB\n",
      "A\n"
     ]
    }
   ],
   "source": [
    "for i in range(1,n+1):\n",
    "    for j in range(1,n+2-i):\n",
    "        print(chr(64+j),end='')\n",
    "    print()"
   ]
  },
  {
   "cell_type": "code",
   "execution_count": 38,
   "id": "3ec696c8",
   "metadata": {},
   "outputs": [
    {
     "name": "stdout",
     "output_type": "stream",
     "text": [
      "10101010101010101010\n",
      "999999999\n",
      "88888888\n",
      "7777777\n",
      "666666\n",
      "55555\n",
      "4444\n",
      "333\n",
      "22\n",
      "1\n"
     ]
    }
   ],
   "source": [
    "for i in range(1,n+1):\n",
    "    for j in range(1,n+2-i):\n",
    "        print(n+1-i,end='')\n",
    "    print()"
   ]
  },
  {
   "cell_type": "code",
   "execution_count": 39,
   "id": "62977d08",
   "metadata": {},
   "outputs": [
    {
     "name": "stdout",
     "output_type": "stream",
     "text": [
      "10987654321\n",
      "1098765432\n",
      "109876543\n",
      "10987654\n",
      "1098765\n",
      "109876\n",
      "10987\n",
      "1098\n",
      "109\n",
      "10\n"
     ]
    }
   ],
   "source": [
    "for i in range(1,n+1):\n",
    "    for j in range(1,n+2-i):\n",
    "        print(n+1-j,end='')\n",
    "    print()"
   ]
  },
  {
   "cell_type": "code",
   "execution_count": 40,
   "id": "7d550389",
   "metadata": {},
   "outputs": [
    {
     "name": "stdout",
     "output_type": "stream",
     "text": [
      "JJJJJJJJJJ\n",
      "IIIIIIIII\n",
      "HHHHHHHH\n",
      "GGGGGGG\n",
      "FFFFFF\n",
      "EEEEE\n",
      "DDDD\n",
      "CCC\n",
      "BB\n",
      "A\n"
     ]
    }
   ],
   "source": [
    "for i in range(1,n+1):\n",
    "    for j in range(1,n+2-i):\n",
    "        print(chr(65+n-i),end='')\n",
    "    print()"
   ]
  },
  {
   "cell_type": "code",
   "execution_count": 42,
   "id": "0a130f94",
   "metadata": {},
   "outputs": [
    {
     "name": "stdout",
     "output_type": "stream",
     "text": [
      "JIHGFEDCBA\n",
      "JIHGFEDCB\n",
      "JIHGFEDC\n",
      "JIHGFED\n",
      "JIHGFE\n",
      "JIHGF\n",
      "JIHG\n",
      "JIH\n",
      "JI\n",
      "J\n"
     ]
    }
   ],
   "source": [
    "for i in range(1,n+1):\n",
    "    for j in range(1,n+2-i):\n",
    "        print(chr(65+n-j),end='')\n",
    "    print()"
   ]
  },
  {
   "cell_type": "code",
   "execution_count": 51,
   "id": "e658f5f5",
   "metadata": {},
   "outputs": [
    {
     "name": "stdout",
     "output_type": "stream",
     "text": [
      "          *\n",
      "         **\n",
      "        ***\n",
      "       ****\n",
      "      *****\n",
      "     ******\n",
      "    *******\n",
      "   ********\n",
      "  *********\n",
      " **********\n"
     ]
    }
   ],
   "source": [
    "for i in range(1,n+1):\n",
    "#     for j in range(1,n+1):\n",
    "      print(\" \"*(n-i),\"*\"*i,end='')\n",
    "      print()"
   ]
  },
  {
   "cell_type": "code",
   "execution_count": 52,
   "id": "d9856622",
   "metadata": {},
   "outputs": [
    {
     "name": "stdout",
     "output_type": "stream",
     "text": [
      "         *\n",
      "        **\n",
      "       ***\n",
      "      ****\n",
      "     *****\n",
      "    ******\n",
      "   *******\n",
      "  ********\n",
      " *********\n",
      "**********\n"
     ]
    }
   ],
   "source": [
    "for i in range(1,n+1):\n",
    "    print(\" \"*(n-i),end='')\n",
    "    for j in range(1,i+1):\n",
    "        print(\"*\",end='')\n",
    "    print()"
   ]
  },
  {
   "cell_type": "code",
   "execution_count": 54,
   "id": "d5f0627a",
   "metadata": {},
   "outputs": [
    {
     "name": "stdout",
     "output_type": "stream",
     "text": [
      "no of rows:10\n",
      "char: a\n",
      "---------a---------\n",
      "--------aaa--------\n",
      "-------aaaaa-------\n",
      "------aaaaaaa------\n",
      "-----aaaaaaaaa-----\n",
      "----aaaaaaaaaaa----\n",
      "---aaaaaaaaaaaaa---\n",
      "--aaaaaaaaaaaaaaa--\n",
      "-aaaaaaaaaaaaaaaaa-\n",
      "aaaaaaaaaaaaaaaaaaa\n",
      "-aaaaaaaaaaaaaaaaa-\n",
      "--aaaaaaaaaaaaaaa--\n",
      "---aaaaaaaaaaaaa---\n",
      "----aaaaaaaaaaa----\n",
      "-----aaaaaaaaa-----\n",
      "------aaaaaaa------\n",
      "-------aaaaa-------\n",
      "--------aaa--------\n",
      "---------a---------\n"
     ]
    }
   ],
   "source": [
    "nrows = int(input(\"no of rows:\"))\n",
    "char = input('char: ')\n",
    "for c in range(1,2*nrows+1,2):\n",
    "    pat = f\"{char}\"*c\n",
    "    print(pat.center((2*nrows-1),'-'))\n",
    "for c in range((2*nrows-3),0,-2):\n",
    "    pat = f\"{char}\"*c\n",
    "    print(pat.center((2*nrows-1),'-'))"
   ]
  },
  {
   "cell_type": "code",
   "execution_count": 56,
   "id": "bef70aa3",
   "metadata": {},
   "outputs": [
    {
     "name": "stdout",
     "output_type": "stream",
     "text": [
      "10\n",
      "2\n",
      "---------2---------\n",
      "--------222--------\n",
      "-------22222-------\n",
      "------2222222------\n",
      "-----222222222-----\n",
      "----22222222222----\n",
      "---2222222222222---\n",
      "--222222222222222--\n",
      "-22222222222222222-\n",
      "2222222222222222222\n",
      "-22222222222222222-\n",
      "--222222222222222--\n",
      "---2222222222222---\n",
      "----22222222222----\n",
      "-----222222222-----\n",
      "------2222222------\n",
      "-------22222-------\n",
      "--------222--------\n",
      "---------2---------\n"
     ]
    }
   ],
   "source": [
    "nrows = int(input())\n",
    "char = input()\n",
    "for i in range(1,2*nrows+1,2):\n",
    "    pat = f\"{char}\"*i\n",
    "    print(pat.center((2*nrows-1),'-'))\n",
    "for i in range((2*nrows-3),0,-2):\n",
    "    pat = f\"{char}\"*i\n",
    "    print(pat.center((2*nrows-1),'-'))"
   ]
  },
  {
   "cell_type": "code",
   "execution_count": 13,
   "id": "05e92097",
   "metadata": {},
   "outputs": [
    {
     "name": "stdout",
     "output_type": "stream",
     "text": [
      "enter a number :6\n",
      "A\n",
      "BB\n",
      "CCC\n",
      "DDDD\n",
      "EEEEE\n",
      "FFFFFF\n",
      "EEEEE\n",
      "DDDD\n",
      "CCC\n",
      "BB\n",
      "A\n"
     ]
    }
   ],
   "source": [
    "# pattern 81\n",
    "num = int(input(\"enter a number :\"))\n",
    "for i in range(1,num +1):\n",
    "    print(\"\"*((num-i)),end=\"\")\n",
    "    for j in range(1,i+1):\n",
    "        print(chr(64+i),end=\"\")\n",
    "    print()\n",
    "for p in range(1,num):\n",
    "    print(\"\"*p,end=\"\")\n",
    "    for q in range(1,num+1-p):\n",
    "        print(chr(64+num-p),end=\"\")\n",
    "    print()"
   ]
  },
  {
   "cell_type": "code",
   "execution_count": 14,
   "id": "1ca8cebb",
   "metadata": {},
   "outputs": [
    {
     "name": "stdout",
     "output_type": "stream",
     "text": [
      "6\n",
      "         10\n",
      "        9109\n",
      "       891098\n",
      "      78910987\n",
      "     6789109876\n",
      "    567891098765\n",
      "   45678910987654\n",
      "  3456789109876543\n",
      " 234567891098765432\n",
      "12345678910987654321\n",
      " 234567891098765432\n",
      "  3456789109876543\n",
      "   45678910987654\n",
      "    567891098765\n",
      "     6789109876\n",
      "      78910987\n",
      "       891098\n",
      "        9109\n",
      "         10\n",
      "          \n"
     ]
    }
   ],
   "source": [
    "num = int(input())\n",
    "for i in range(1,n+1):\n",
    "    print(\" \"*(n-i),end='')\n",
    "    for j in range(1,i+1):\n",
    "        print(n-i+j,end = '')\n",
    "    for k in range(2,i+1):\n",
    "        print(n+1-k,end='')\n",
    "    print()\n",
    "for i in range(1,n+1):\n",
    "    print(\" \" *i,end='')\n",
    "    for j in range(1+i,n+1):\n",
    "        print(j,end='')\n",
    "    for k in range(2,n+1-i):\n",
    "        print(n+1-k,end=\"\")\n",
    "    print()"
   ]
  },
  {
   "cell_type": "code",
   "execution_count": 18,
   "id": "56cd98e7",
   "metadata": {},
   "outputs": [
    {
     "name": "stdout",
     "output_type": "stream",
     "text": [
      "5\n",
      "    5\n",
      "   454\n",
      "  34543\n",
      " 2345432\n",
      "123454321\n"
     ]
    }
   ],
   "source": [
    "n = int(input())\n",
    "for i in range(1,n+1):\n",
    "    print(\" \"*(n-i),end='')\n",
    "    for j in range(1,i+1):\n",
    "        print(n-i+j,end='')\n",
    "    for k in range(2,i+1):\n",
    "        print(n+1-k,end='')\n",
    "    print()"
   ]
  },
  {
   "cell_type": "code",
   "execution_count": 41,
   "id": "7386a430",
   "metadata": {},
   "outputs": [
    {
     "name": "stdout",
     "output_type": "stream",
     "text": [
      "*\n",
      "*\n",
      "*\n",
      "*\n",
      "\n",
      "*\n",
      " \n",
      " \n",
      " \n",
      "\n",
      "*\n",
      " \n",
      " \n",
      " \n",
      "\n",
      "*\n",
      " \n",
      " \n",
      " \n",
      "\n"
     ]
    }
   ],
   "source": [
    "n = 5\n",
    "for i in range(1,n):\n",
    "    for j in range(1,n):\n",
    "        if (i == 1 or i == 5 or j == 1 or j == 5):\n",
    "            print(\"*\")\n",
    "        else:\n",
    "            print(\" \")\n",
    "    print()"
   ]
  },
  {
   "cell_type": "code",
   "execution_count": null,
   "id": "876ee0a0",
   "metadata": {},
   "outputs": [],
   "source": [
    "for (int i = 1; i <= 10; i++)\n",
    "    {\n",
    "        for (int j = 1; j <=10; j++)\n",
    "        {\n",
    "            if (j==4 || j==10 || i==10 || i==4  || i-1==0 || i+j==4 )\n",
    "            \n",
    "            {\n",
    "                cout << \".\";\n",
    "            }\n",
    "            else\n",
    "            {\n",
    "                cout <<\" \";\n",
    "            }\n",
    "        }\n",
    "        cout<<endl;\n",
    "    }"
   ]
  },
  {
   "cell_type": "code",
   "execution_count": 113,
   "id": "7d0c5f59",
   "metadata": {},
   "outputs": [
    {
     "name": "stdout",
     "output_type": "stream",
     "text": [
      "* * * * * * * * * * * * * * * \n",
      "* * * * * *   *             * \n",
      "* * * * * * *               * \n",
      "* * * * * * * * * * * * * * * \n",
      "* * * * * *                 * \n",
      "* * * * * *                 * \n",
      "* * * * * *                 * \n",
      "* * * * * *                 * \n",
      "* * * * * * * * * * * * * * * \n"
     ]
    }
   ],
   "source": [
    "for i in range(1,10):\n",
    "    for j in range(1,10):\n",
    "        for k in range(4,10):\n",
    "            if (j == 1):\n",
    "                print(\"*\",end=\" \")\n",
    "            else:\n",
    "                pass\n",
    "        if(i==4 or j==9 or i==9 or i==4 or i-1==0 or i+j==4):\n",
    "            print(\"*\",end=\" \")\n",
    "        else:\n",
    "            print(\" \",end=\" \")\n",
    "    \n",
    "\n",
    "    print() \n",
    "    "
   ]
  },
  {
   "cell_type": "code",
   "execution_count": 1,
   "id": "6019f4c7",
   "metadata": {},
   "outputs": [
    {
     "name": "stdout",
     "output_type": "stream",
     "text": [
      "X X X X \n",
      "X     X \n",
      "X     X \n",
      "X X X X \n"
     ]
    }
   ],
   "source": [
    "for i in range(1,5):\n",
    "    for j in range(1,5):\n",
    "        if i==1 or j==1 or i==4 or j==4:\n",
    "            print(\"X\",end=\" \")\n",
    "        else:\n",
    "            print(\" \",end=\" \")\n",
    "    print()"
   ]
  },
  {
   "cell_type": "code",
   "execution_count": 2,
   "id": "d33bfe82",
   "metadata": {},
   "outputs": [
    {
     "name": "stdout",
     "output_type": "stream",
     "text": [
      "* * * * * * * * * \n",
      "*               * \n",
      "*               * \n",
      "*               * \n",
      "*               * \n",
      "*               * \n",
      "*               * \n",
      "*               * \n",
      "* * * * * * * * * \n"
     ]
    }
   ],
   "source": [
    "for i in range(1,10):\n",
    "    for j in  range(1,10):\n",
    "        if i == 1 or j == 1 or i == 9 or j == 9:\n",
    "            print(\"*\",end=\" \")\n",
    "        else:\n",
    "            print(\" \",end = \" \")\n",
    "    print()"
   ]
  },
  {
   "cell_type": "code",
   "execution_count": null,
   "id": "2e98fc6b",
   "metadata": {},
   "outputs": [],
   "source": []
  },
  {
   "cell_type": "code",
   "execution_count": 106,
   "id": "bc1e4456",
   "metadata": {},
   "outputs": [
    {
     "name": "stdout",
     "output_type": "stream",
     "text": [
      "X X X X \n",
      "X     X \n",
      "X     X \n",
      "X X X X \n"
     ]
    }
   ],
   "source": []
  },
  {
   "cell_type": "code",
   "execution_count": 121,
   "id": "7bc7370f",
   "metadata": {},
   "outputs": [
    {
     "name": "stdout",
     "output_type": "stream",
     "text": [
      "* * * * * * * * * \n",
      "  *   *         * \n",
      "*     *         * \n",
      "* * * * * * * * * \n",
      "      *         * \n",
      "      *         * \n",
      "      *         * \n",
      "      *         * \n",
      "* * * * * * * * * \n"
     ]
    }
   ],
   "source": [
    "for i in range(1,10):\n",
    "    for j in range(1,10):\n",
    "        if(i==4 or j==9 or i==9 or i==4 or i-1==0 or i+j==4 or j == 4):\n",
    "            print(\"*\",end=\" \")\n",
    "        else:\n",
    "            print(\" \",end=\" \")\n",
    "    print() \n",
    "    "
   ]
  },
  {
   "cell_type": "code",
   "execution_count": 126,
   "id": "b04405b8",
   "metadata": {},
   "outputs": [
    {
     "name": "stdout",
     "output_type": "stream",
     "text": [
      "* * * * * * * * * \n",
      "* *           * * \n",
      "*   *       *   * \n",
      "*     *   *     * \n",
      "*       *       * \n",
      "*     *   *     * \n",
      "*   *       *   * \n",
      "* *           * * \n",
      "* * * * * * * * * \n"
     ]
    }
   ],
   "source": [
    "for i in range(1,10):\n",
    "    for j in range(1,10):\n",
    "        if ( i == 1 or j == 1 or i == 9 or j == 9 or i - j == 0 or j + i == 10):\n",
    "            print(\"*\",end=\" \")\n",
    "        else:\n",
    "            print(\" \",end=\" \")\n",
    "    print()"
   ]
  },
  {
   "cell_type": "code",
   "execution_count": 127,
   "id": "fa534aa5",
   "metadata": {},
   "outputs": [
    {
     "name": "stdout",
     "output_type": "stream",
     "text": [
      "5\n",
      "* * * * * \n",
      " * * * * * \n",
      "  * * * * * \n",
      "   * * * * * \n",
      "    * * * * * \n"
     ]
    }
   ],
   "source": [
    "num = int(input())\n",
    "for i in range(1,num+1):\n",
    "    print(\" \"*(i-1),end=\"\")\n",
    "    for j in range(1,num+1):\n",
    "        print(\"*\",end=\" \")\n",
    "    print()"
   ]
  },
  {
   "cell_type": "code",
   "execution_count": 134,
   "id": "e847d9c3",
   "metadata": {},
   "outputs": [
    {
     "name": "stdout",
     "output_type": "stream",
     "text": [
      "* * * * * \n",
      " * * * * * \n",
      "  * * * * * \n",
      "   * * * * * \n",
      "    * * * * * \n",
      "     * * * * * \n"
     ]
    }
   ],
   "source": [
    "n = 6\n",
    "for i in range(1,n+1):\n",
    "    print(\" \"*(i-1),end='')\n",
    "    for j in range(1,num+1):\n",
    "        print(\"*\",end=' ')\n",
    "    print()"
   ]
  },
  {
   "cell_type": "code",
   "execution_count": 7,
   "id": "6b413a79",
   "metadata": {},
   "outputs": [
    {
     "name": "stdout",
     "output_type": "stream",
     "text": [
      "['hi', 'ayush']\n"
     ]
    }
   ],
   "source": [
    "name = \"hi ayush\"\n",
    "d = name.split()\n",
    "print(d)"
   ]
  },
  {
   "cell_type": "code",
   "execution_count": 15,
   "id": "d69df803",
   "metadata": {},
   "outputs": [
    {
     "ename": "NameError",
     "evalue": "name 'self' is not defined",
     "output_type": "error",
     "traceback": [
      "\u001b[0;31m---------------------------------------------------------------------------\u001b[0m",
      "\u001b[0;31mNameError\u001b[0m                                 Traceback (most recent call last)",
      "Input \u001b[0;32mIn [15]\u001b[0m, in \u001b[0;36m<cell line: 20>\u001b[0;34m()\u001b[0m\n\u001b[1;32m     18\u001b[0m         \u001b[38;5;28;01mreturn\u001b[39;00m sd\n\u001b[1;32m     19\u001b[0m A \u001b[38;5;241m=\u001b[39m Solution\n\u001b[0;32m---> 20\u001b[0m A\u001b[38;5;241m.\u001b[39misHappy(\u001b[38;5;28;43mself\u001b[39;49m,\u001b[38;5;241m19\u001b[39m)\n\u001b[1;32m     21\u001b[0m A\u001b[38;5;241m.\u001b[39msum_sqrt(\u001b[38;5;241m19\u001b[39m)\n",
      "\u001b[0;31mNameError\u001b[0m: name 'self' is not defined"
     ]
    }
   ],
   "source": [
    "class Solution:\n",
    "    def isHappy(self, n: int) -> bool:\n",
    "        s = set()\n",
    "        while n:\n",
    "            if n == 1:\n",
    "                return True\n",
    "            if n in s:\n",
    "                return False\n",
    "            else:\n",
    "                s.add(n)\n",
    "                n = self.sum_sqrt(n)\n",
    "    def sum_sqrt(self,n:int)->int:\n",
    "        sd = 0\n",
    "        while n:\n",
    "            digit = n % 10\n",
    "            sd += digit**2\n",
    "            n = n // 10\n",
    "        return sd\n",
    "A = Solution\n",
    "A.isHappy(self,19)\n",
    "A.sum_sqrt(19)\n",
    "        "
   ]
  },
  {
   "cell_type": "code",
   "execution_count": null,
   "id": "0f522eed",
   "metadata": {},
   "outputs": [],
   "source": []
  },
  {
   "cell_type": "code",
   "execution_count": 1,
   "id": "b3d789e2",
   "metadata": {},
   "outputs": [
    {
     "name": "stdout",
     "output_type": "stream",
     "text": [
      "The L.C.M. is 216\n"
     ]
    }
   ],
   "source": [
    "# Python Program to find the L.C.M. of two input number\n",
    "\n",
    "def compute_lcm(x, y):\n",
    "    \n",
    "\n",
    "   # choose the greater number\n",
    "   if x > y:\n",
    "       greater = x\n",
    "   else:\n",
    "       greater = y\n",
    "\n",
    "   while(True):\n",
    "       if((greater % x == 0) and (greater % y == 0)):\n",
    "           lcm = greater\n",
    "           break\n",
    "       greater += 1\n",
    "\n",
    "   return lcm\n",
    "\n",
    "num1 = 54\n",
    "num2 = 24\n",
    "\n",
    "print(\"The L.C.M. is\", compute_lcm(num1, num2))"
   ]
  },
  {
   "cell_type": "code",
   "execution_count": 16,
   "id": "a15d8725",
   "metadata": {},
   "outputs": [
    {
     "name": "stdout",
     "output_type": "stream",
     "text": [
      "None\n"
     ]
    }
   ],
   "source": [
    "n = 19\n",
    "s = set()\n",
    "d = s.add(n)\n",
    "print(d)\n"
   ]
  },
  {
   "cell_type": "code",
   "execution_count": 1,
   "id": "c34f868c",
   "metadata": {},
   "outputs": [
    {
     "name": "stdout",
     "output_type": "stream",
     "text": [
      "216\n"
     ]
    }
   ],
   "source": [
    "def com_lcm(x,y):\n",
    "    if x > y:\n",
    "        greater = x\n",
    "    else:\n",
    "        greater = y\n",
    "    while True:\n",
    "        if ((greater % x == 0) and (greater % y == 0)):\n",
    "            lcm = greater \n",
    "            break\n",
    "        greater += 1\n",
    "    return lcm\n",
    "num1 = 54\n",
    "num2 = 24\n",
    "print(com_lcm(num1,num2))"
   ]
  },
  {
   "cell_type": "code",
   "execution_count": 3,
   "id": "0c1c5232",
   "metadata": {},
   "outputs": [
    {
     "name": "stdout",
     "output_type": "stream",
     "text": [
      "lcm 12\n"
     ]
    }
   ],
   "source": []
  },
  {
   "cell_type": "code",
   "execution_count": 1,
   "id": "61ee048f",
   "metadata": {},
   "outputs": [],
   "source": [
    "l = [1,2,3,4,5]\n",
    "a = [a for a in range(1,6)] "
   ]
  },
  {
   "cell_type": "code",
   "execution_count": 2,
   "id": "7f8d7f2b",
   "metadata": {},
   "outputs": [
    {
     "data": {
      "text/plain": [
       "[1, 2, 3, 4, 5]"
      ]
     },
     "execution_count": 2,
     "metadata": {},
     "output_type": "execute_result"
    }
   ],
   "source": [
    "a"
   ]
  },
  {
   "cell_type": "code",
   "execution_count": 3,
   "id": "9ab56748",
   "metadata": {},
   "outputs": [],
   "source": [
    "a=[a for a in range(1,11) if a%2==0]"
   ]
  },
  {
   "cell_type": "code",
   "execution_count": 4,
   "id": "04e91824",
   "metadata": {},
   "outputs": [
    {
     "data": {
      "text/plain": [
       "[2, 4, 6, 8, 10]"
      ]
     },
     "execution_count": 4,
     "metadata": {},
     "output_type": "execute_result"
    }
   ],
   "source": [
    "a"
   ]
  },
  {
   "cell_type": "code",
   "execution_count": 5,
   "id": "cbfb14ab",
   "metadata": {},
   "outputs": [],
   "source": [
    "a=(a for a in range(1,6))"
   ]
  },
  {
   "cell_type": "code",
   "execution_count": 9,
   "id": "527ad88c",
   "metadata": {},
   "outputs": [
    {
     "name": "stdout",
     "output_type": "stream",
     "text": [
      "1\n",
      "2\n",
      "3\n",
      "4\n",
      "5\n"
     ]
    }
   ],
   "source": [
    "for i in a:\n",
    "    print(i)"
   ]
  },
  {
   "cell_type": "code",
   "execution_count": 12,
   "id": "7571cd94",
   "metadata": {},
   "outputs": [
    {
     "name": "stdout",
     "output_type": "stream",
     "text": [
      "10\n"
     ]
    }
   ],
   "source": [
    "a = 10\n",
    "b = str(a)\n",
    "print(b)"
   ]
  },
  {
   "cell_type": "code",
   "execution_count": 11,
   "id": "64e73511",
   "metadata": {},
   "outputs": [
    {
     "name": "stdout",
     "output_type": "stream",
     "text": [
      "<class 'int'>\n"
     ]
    }
   ],
   "source": [
    "print(type(a))"
   ]
  },
  {
   "cell_type": "code",
   "execution_count": 13,
   "id": "1d4e8178",
   "metadata": {},
   "outputs": [
    {
     "name": "stdout",
     "output_type": "stream",
     "text": [
      "<class 'str'>\n"
     ]
    }
   ],
   "source": [
    "print(type(b))"
   ]
  },
  {
   "cell_type": "code",
   "execution_count": 15,
   "id": "e5b74456",
   "metadata": {},
   "outputs": [],
   "source": [
    "a = str(a)"
   ]
  },
  {
   "cell_type": "code",
   "execution_count": 16,
   "id": "39b3cbe9",
   "metadata": {},
   "outputs": [
    {
     "name": "stdout",
     "output_type": "stream",
     "text": [
      "<class 'str'>\n"
     ]
    }
   ],
   "source": [
    "print(type(a))"
   ]
  },
  {
   "cell_type": "code",
   "execution_count": 20,
   "id": "5bf3e2da",
   "metadata": {},
   "outputs": [
    {
     "name": "stdout",
     "output_type": "stream",
     "text": [
      "<class 'str'>\n",
      "<class 'list'>\n",
      "['v', 'i', 'v', 'e', 'k']\n"
     ]
    }
   ],
   "source": [
    "a = 'vivek'\n",
    "b = list(a)\n",
    "print(type(a))\n",
    "print(type(b))\n",
    "print(b)"
   ]
  },
  {
   "cell_type": "code",
   "execution_count": 22,
   "id": "1803cc38",
   "metadata": {},
   "outputs": [
    {
     "name": "stdout",
     "output_type": "stream",
     "text": [
      "['v', 'i', 'v', 'e', 'k']\n",
      "['v', 'i', 'v', 'e', 'k']\n"
     ]
    }
   ],
   "source": [
    "c  = str(b)\n",
    "a = str(b)\n",
    "print(c)\n",
    "print(a)"
   ]
  },
  {
   "cell_type": "code",
   "execution_count": null,
   "id": "1912cfc9",
   "metadata": {},
   "outputs": [],
   "source": [
    "x = 1234"
   ]
  },
  {
   "cell_type": "code",
   "execution_count": 23,
   "id": "599b5720",
   "metadata": {},
   "outputs": [
    {
     "name": "stdout",
     "output_type": "stream",
     "text": [
      "139782775597680\n"
     ]
    }
   ],
   "source": [
    "a= 'vivek'\n",
    "print(id(a))"
   ]
  },
  {
   "cell_type": "code",
   "execution_count": 24,
   "id": "7625ae4b",
   "metadata": {},
   "outputs": [
    {
     "name": "stdout",
     "output_type": "stream",
     "text": [
      "capitalize casefold center count encode endswith expandtabs find format format_map index isalnum isalpha isascii isdecimal isdigit isidentifier islower isnumeric isprintable isspace istitle isupper join ljust lower lstrip maketrans partition removeprefix removesuffix replace rfind rindex rjust rpartition rsplit rstrip split splitlines startswith strip swapcase title translate upper zfill\n"
     ]
    }
   ],
   "source": [
    "print(*[func for func in dir(str) if func[0].islower()])"
   ]
  },
  {
   "cell_type": "code",
   "execution_count": 28,
   "id": "e56bc9de",
   "metadata": {},
   "outputs": [
    {
     "name": "stdout",
     "output_type": "stream",
     "text": [
      "VIVEK\n"
     ]
    }
   ],
   "source": [
    "print(a.upper())"
   ]
  },
  {
   "cell_type": "code",
   "execution_count": 29,
   "id": "985e0fd8",
   "metadata": {},
   "outputs": [
    {
     "name": "stdout",
     "output_type": "stream",
     "text": [
      "139782775597680\n"
     ]
    }
   ],
   "source": [
    "print(id(a))"
   ]
  },
  {
   "cell_type": "code",
   "execution_count": 31,
   "id": "1cebb69f",
   "metadata": {},
   "outputs": [
    {
     "name": "stdout",
     "output_type": "stream",
     "text": [
      "VIVEK\n",
      "<class 'str'>\n",
      "139782732447152\n"
     ]
    }
   ],
   "source": [
    "b = a.upper()\n",
    "print(b)\n",
    "print(type(b))\n",
    "print(id(b))"
   ]
  },
  {
   "cell_type": "code",
   "execution_count": 32,
   "id": "f3fc4b06",
   "metadata": {},
   "outputs": [
    {
     "name": "stdout",
     "output_type": "stream",
     "text": [
      "139782182946176\n",
      "139782182946176\n"
     ]
    }
   ],
   "source": [
    "l=[1,2,3,4]\n",
    "print(id(l))\n",
    "l.append(5)\n",
    "print(id(l))"
   ]
  },
  {
   "cell_type": "code",
   "execution_count": 33,
   "id": "bf47bb6a",
   "metadata": {},
   "outputs": [
    {
     "name": "stdout",
     "output_type": "stream",
     "text": [
      "139782775597680\n",
      "139782775597680\n"
     ]
    }
   ],
   "source": [
    "s=\"vivek\"\n",
    "print(id(s))\n",
    "s.upper()\n",
    "print(id(s))"
   ]
  },
  {
   "cell_type": "code",
   "execution_count": 34,
   "id": "66f797c9",
   "metadata": {},
   "outputs": [
    {
     "name": "stdout",
     "output_type": "stream",
     "text": [
      "94400159743232\n"
     ]
    }
   ],
   "source": [
    "x=l.append(7)\n",
    "print(id(x))"
   ]
  },
  {
   "cell_type": "code",
   "execution_count": 35,
   "id": "064d5700",
   "metadata": {},
   "outputs": [
    {
     "name": "stdout",
     "output_type": "stream",
     "text": [
      "139782182946176\n"
     ]
    }
   ],
   "source": [
    "print(id(l))"
   ]
  },
  {
   "cell_type": "code",
   "execution_count": 3,
   "id": "9bd7267a",
   "metadata": {},
   "outputs": [
    {
     "name": "stdout",
     "output_type": "stream",
     "text": [
      "139933996215104\n"
     ]
    }
   ],
   "source": [
    "a = [1,2,4,5]\n",
    "print(id(a))"
   ]
  },
  {
   "cell_type": "code",
   "execution_count": 4,
   "id": "45c738f5",
   "metadata": {},
   "outputs": [],
   "source": [
    "a.append(10)"
   ]
  },
  {
   "cell_type": "code",
   "execution_count": 5,
   "id": "a4f5bdc7",
   "metadata": {},
   "outputs": [
    {
     "name": "stdout",
     "output_type": "stream",
     "text": [
      "[1, 2, 4, 5, 10]\n"
     ]
    }
   ],
   "source": [
    "print(a)"
   ]
  },
  {
   "cell_type": "code",
   "execution_count": 6,
   "id": "0510df32",
   "metadata": {},
   "outputs": [
    {
     "name": "stdout",
     "output_type": "stream",
     "text": [
      "139933996215104\n"
     ]
    }
   ],
   "source": [
    "print(id(a))"
   ]
  },
  {
   "cell_type": "code",
   "execution_count": 7,
   "id": "a097da73",
   "metadata": {},
   "outputs": [
    {
     "name": "stdout",
     "output_type": "stream",
     "text": [
      "94421054975232 None\n"
     ]
    }
   ],
   "source": [
    "b = a.append(11)\n",
    "print(id(b),b)"
   ]
  },
  {
   "cell_type": "code",
   "execution_count": 8,
   "id": "9e8c89a7",
   "metadata": {},
   "outputs": [],
   "source": [
    "b"
   ]
  },
  {
   "cell_type": "code",
   "execution_count": 9,
   "id": "a92acbe8",
   "metadata": {},
   "outputs": [
    {
     "name": "stdout",
     "output_type": "stream",
     "text": [
      "None\n"
     ]
    }
   ],
   "source": [
    "print(b)"
   ]
  },
  {
   "cell_type": "code",
   "execution_count": null,
   "id": "4121d5f0",
   "metadata": {},
   "outputs": [],
   "source": []
  }
 ],
 "metadata": {
  "kernelspec": {
   "display_name": "Python 3 (ipykernel)",
   "language": "python",
   "name": "python3"
  },
  "language_info": {
   "codemirror_mode": {
    "name": "ipython",
    "version": 3
   },
   "file_extension": ".py",
   "mimetype": "text/x-python",
   "name": "python",
   "nbconvert_exporter": "python",
   "pygments_lexer": "ipython3",
   "version": "3.9.12"
  }
 },
 "nbformat": 4,
 "nbformat_minor": 5
}
